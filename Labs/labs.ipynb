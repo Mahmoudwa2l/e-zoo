{
 "cells": [
  {
   "cell_type": "markdown",
   "metadata": {},
   "source": [
    "# <span style=\"color: limegreen; font-family: 'Maven Pro', sans-serif;\"> LAB 1 MEDIAPIPE <img src=\"./images/google.png\" alt=\"Google Icon\" width=\"35\" height=\"35\"> </span>"
   ]
  },
  {
   "cell_type": "markdown",
   "metadata": {},
   "source": [
    "## Import Packages"
   ]
  },
  {
   "cell_type": "code",
   "execution_count": 1,
   "metadata": {},
   "outputs": [],
   "source": [
    "import mediapipe as mp\n",
    "from mediapipe.tasks import python\n",
    "from mediapipe.tasks.python import vision\n",
    "import cv2"
   ]
  },
  {
   "cell_type": "markdown",
   "metadata": {},
   "source": [
    "## Show image function"
   ]
  },
  {
   "cell_type": "code",
   "execution_count": 2,
   "metadata": {},
   "outputs": [],
   "source": [
    "def showimage(image):\n",
    "    cv2.imshow('Image', image)\n",
    "    cv2.waitKey(0)\n",
    "    cv2.destroyAllWindows()"
   ]
  },
  {
   "cell_type": "markdown",
   "metadata": {},
   "source": [
    "## Show hand image"
   ]
  },
  {
   "cell_type": "code",
   "execution_count": 3,
   "metadata": {},
   "outputs": [],
   "source": [
    "image = cv2.imread(\"./images/hand.jpeg\")\n",
    "showimage(image)"
   ]
  },
  {
   "cell_type": "markdown",
   "metadata": {},
   "source": [
    "## Use MP Model"
   ]
  },
  {
   "cell_type": "code",
   "execution_count": 4,
   "metadata": {},
   "outputs": [],
   "source": [
    "mp_hands=mp.solutions.hands\n",
    "mp_drawings=mp.solutions.drawing_utils\n",
    "mp_styles=mp.solutions.drawing_styles"
   ]
  },
  {
   "cell_type": "markdown",
   "metadata": {},
   "source": [
    "## Convert the BGR image to RGB"
   ]
  },
  {
   "cell_type": "code",
   "execution_count": 5,
   "metadata": {},
   "outputs": [
    {
     "name": "stdout",
     "output_type": "stream",
     "text": [
      "[classification {\n",
      "  index: 1\n",
      "  score: 0.922373056\n",
      "  label: \"Right\"\n",
      "}\n",
      "]\n"
     ]
    },
    {
     "name": "stderr",
     "output_type": "stream",
     "text": [
      "C:\\Users\\mahmo\\AppData\\Local\\Packages\\PythonSoftwareFoundation.Python.3.11_qbz5n2kfra8p0\\LocalCache\\local-packages\\Python311\\site-packages\\google\\protobuf\\symbol_database.py:55: UserWarning: SymbolDatabase.GetPrototype() is deprecated. Please use message_factory.GetMessageClass() instead. SymbolDatabase.GetPrototype() will be removed soon.\n",
      "  warnings.warn('SymbolDatabase.GetPrototype() is deprecated. Please '\n"
     ]
    }
   ],
   "source": [
    "hands = mp_hands.Hands(static_image_mode=True,max_num_hands=2, min_detection_confidence=0.7)\n",
    "rgb_image = cv2.cvtColor(image,cv2.COLOR_BGR2RGB)\n",
    "results = hands.process(rgb_image)\n",
    "print(results.multi_handedness)\n"
   ]
  },
  {
   "cell_type": "markdown",
   "metadata": {},
   "source": [
    "## Draw hands connections"
   ]
  },
  {
   "cell_type": "code",
   "execution_count": 6,
   "metadata": {},
   "outputs": [
    {
     "name": "stdout",
     "output_type": "stream",
     "text": [
      "index 0 :\n",
      "359.3518853187561\n"
     ]
    },
    {
     "data": {
      "text/plain": [
       "True"
      ]
     },
     "execution_count": 6,
     "metadata": {},
     "output_type": "execute_result"
    }
   ],
   "source": [
    "image_height,image_width,_=image.shape\n",
    "annotated_image = image.copy()\n",
    "for hand_landmarks in results.multi_hand_landmarks :\n",
    "    print(\"index 0 :\")\n",
    "    print(hand_landmarks.landmark[mp_hands.HandLandmark.WRIST].x*image_width)\n",
    "    mp_drawings.draw_landmarks(annotated_image,hand_landmarks,mp_hands.HAND_CONNECTIONS,mp_styles.get_default_hand_landmarks_style(),mp_styles.get_default_hand_connections_style())\n",
    "\n",
    "showimage(annotated_image)\n",
    "cv2.imwrite(\"D:\\ezoo\\e-zoo\\Labs\\hand_points.jpg\",annotated_image)"
   ]
  },
  {
   "cell_type": "markdown",
   "metadata": {},
   "source": [
    "# <span style=\"color: gold; font-family: 'Maven Pro', sans-serif;\">LAB 2 Socket  <img src=\"./images/power-plug.png\" width=\"50\" height=\"50\"></span>"
   ]
  },
  {
   "cell_type": "markdown",
   "metadata": {},
   "source": [
    "## Import Packages"
   ]
  },
  {
   "cell_type": "code",
   "execution_count": 7,
   "metadata": {},
   "outputs": [],
   "source": [
    "import mediapipe as mp\n",
    "import cv2\n",
    "import socket"
   ]
  },
  {
   "cell_type": "code",
   "execution_count": 9,
   "metadata": {},
   "outputs": [],
   "source": [
    "path = \"./images/hand.jpeg\"\n",
    "image = cv2.imread(path)\n",
    "showimage(image)\n",
    "mp_hands = mp.solutions.hands"
   ]
  },
  {
   "cell_type": "code",
   "execution_count": 10,
   "metadata": {},
   "outputs": [
    {
     "name": "stdout",
     "output_type": "stream",
     "text": [
      "237.95050978660583,560.2212136983871,329.63554859161377,510.9409761428833,404.8642158508301,437.0169003009796,472.3499536514282,379.47471940517426,530.2494764328003,349.2254799604416,313.70623111724854,311.3727111816406,334.7649335861206,206.3850064277649,345.2601671218872,142.78007724881172,352.6331305503845,88.00105428695679,251.4178991317749,305.55450534820557,257.4742555618286,191.56105715036392,259.93890166282654,118.43822038173676,260.9973192214966,59.222341895103455,193.05844902992249,322.3100584745407,186.44020557403564,214.95026248693466,185.56010127067566,149.11296755075455,186.78009510040283,94.71966576576233,136.88020706176758,358.2753087282181,105.56094646453857,282.14899921417236,86.08546257019043,230.95612120628357,73.14024567604065,181.36094492673874,\n"
     ]
    },
    {
     "name": "stderr",
     "output_type": "stream",
     "text": [
      "C:\\Users\\mahmo\\AppData\\Local\\Packages\\PythonSoftwareFoundation.Python.3.11_qbz5n2kfra8p0\\LocalCache\\local-packages\\Python311\\site-packages\\google\\protobuf\\symbol_database.py:55: UserWarning: SymbolDatabase.GetPrototype() is deprecated. Please use message_factory.GetMessageClass() instead. SymbolDatabase.GetPrototype() will be removed soon.\n",
      "  warnings.warn('SymbolDatabase.GetPrototype() is deprecated. Please '\n"
     ]
    }
   ],
   "source": [
    "data=\"\"\n",
    "with mp_hands.Hands(static_image_mode = True , max_num_hands=2,min_detection_confidence=0.7) as hands :\n",
    "    rgb = cv2.cvtColor(image,cv2.COLOR_BGR2RGB)\n",
    "    flippedImage = cv2.flip(rgb,1)\n",
    "    results = hands.process(flippedImage)\n",
    "    image_height,image_width,_ = image.shape\n",
    "\n",
    "    for hand_landmarks in results.multi_hand_landmarks:\n",
    "        for point in range(21):\n",
    "            data+=str(hand_landmarks.landmark[point].x*image_width)+ \",\"+str(hand_landmarks.landmark[point].y*image_height)+\",\"\n",
    "\n",
    "print(data)"
   ]
  },
  {
   "cell_type": "code",
   "execution_count": 11,
   "metadata": {},
   "outputs": [
    {
     "name": "stdout",
     "output_type": "stream",
     "text": [
      "Waiting for a connection...\n",
      "Device connected: ('127.0.0.1', 59804)\n"
     ]
    }
   ],
   "source": [
    "import socket\n",
    "\n",
    "mySocket = socket.socket(socket.AF_INET, socket.SOCK_STREAM)  # Create a TCP socket\n",
    "mySocket.bind(('localhost', 5000))  # Bind to the address using a tuple\n",
    "mySocket.listen(5)\n",
    "print(\"Waiting for a connection...\")\n",
    "\n",
    "conn, addr = mySocket.accept()\n",
    "print(f\"Device connected: {addr}\")\n",
    "\n",
    "msg = bytes(data, 'utf-8')\n",
    "conn.send(msg)\n",
    "\n",
    "conn.close()  # Close the connection after sending the message\n",
    "mySocket.close()  # Close the listening socket\n"
   ]
  },
  {
   "cell_type": "code",
   "execution_count": 12,
   "metadata": {},
   "outputs": [
    {
     "name": "stdout",
     "output_type": "stream",
     "text": [
      "device connected\n"
     ]
    },
    {
     "data": {
      "text/plain": [
       "772"
      ]
     },
     "execution_count": 12,
     "metadata": {},
     "output_type": "execute_result"
    }
   ],
   "source": [
    "import socket\n",
    "mySocket = socket.socket()\n",
    "mySocket.bind(('localhost',5000))\n",
    "mySocket.listen(5)\n",
    "conn ,addr = mySocket.accept()\n",
    "print(\"device connected\")\n",
    "msg = bytes(data,'utf-8')\n",
    "conn.send(msg)"
   ]
  },
  {
   "cell_type": "markdown",
   "metadata": {},
   "source": [
    "# <span style=\"color: skyblue; font-family: 'Maven Pro', sans-serif;\">LAB 3 MEDIAPIPE & DOLLARPY  <img src=\"./images/dollar-symbol.png\" width=\"45\" height=\"45\"></span>"
   ]
  },
  {
   "cell_type": "markdown",
   "metadata": {},
   "source": [
    "## Import MediaPipe and Dollarpy"
   ]
  },
  {
   "cell_type": "code",
   "execution_count": 32,
   "metadata": {},
   "outputs": [],
   "source": [
    "import mediapipe as mp\n",
    "import cv2\n",
    "#from dollarpy import Recognizer, Template,Point\n",
    "import os\n",
    "import numpy as np\n",
    "\n",
    "mp_drawings = mp.solutions.drawing_utils\n",
    "mp_holistic = mp.solutions.holistic\n"
   ]
  },
  {
   "cell_type": "markdown",
   "metadata": {},
   "source": [
    "## Create a function to extract pose landmarks and convert them to POINT"
   ]
  },
  {
   "cell_type": "code",
   "execution_count": null,
   "metadata": {},
   "outputs": [],
   "source": []
  },
  {
   "cell_type": "code",
   "execution_count": null,
   "metadata": {},
   "outputs": [],
   "source": []
  },
  {
   "cell_type": "code",
   "execution_count": null,
   "metadata": {},
   "outputs": [],
   "source": [
    " "
   ]
  },
  {
   "cell_type": "markdown",
   "metadata": {},
   "source": [
    "# <span style=\"color:#D678ED ; font-family: 'Maven Pro', sans-serif;\">LAB 4 TUIO   <img src=\"./images/touch.png\" width=\"60\" height=\"60\"></span>"
   ]
  },
  {
   "cell_type": "code",
   "execution_count": null,
   "metadata": {},
   "outputs": [],
   "source": []
  },
  {
   "cell_type": "markdown",
   "metadata": {},
   "source": [
    "#  <span style=\"color:#98FF98; font-family: 'Maven Pro', sans-serif;\">LAB 5 Face Material <img src=\"./images/face-detection.png\" width=\"60\" height=\"60\" style=\"filter: hue-rotate(160deg);\"> </span>\n"
   ]
  },
  {
   "cell_type": "code",
   "execution_count": null,
   "metadata": {},
   "outputs": [],
   "source": []
  },
  {
   "cell_type": "markdown",
   "metadata": {},
   "source": [
    "#  <span style=\"color:#FF0000; font-family: 'Maven Pro', sans-serif;\">LAB 6 YOLOv7 <img src=\"./images/scan.png\" width=\"60\" height=\"60\" style=\"filter: hue-rotate(0deg);\">\n",
    "</span>\n",
    "\n"
   ]
  },
  {
   "cell_type": "markdown",
   "metadata": {},
   "source": []
  },
  {
   "cell_type": "code",
   "execution_count": null,
   "metadata": {},
   "outputs": [],
   "source": []
  },
  {
   "cell_type": "markdown",
   "metadata": {},
   "source": [
    "# <span style=\"color:#FF8C00; font-family: 'Maven Pro', sans-serif;\">LAB 9 Gaze Tracking & Facial Expression <img src=\"./images/neutral.png\" width=\"60\" height=\"60\" style=\"filter: hue-rotate(30deg);\"> </span>"
   ]
  },
  {
   "cell_type": "code",
   "execution_count": null,
   "metadata": {},
   "outputs": [],
   "source": []
  },
  {
   "cell_type": "markdown",
   "metadata": {},
   "source": [
    "# Lab 10 - Heatmap generation"
   ]
  },
  {
   "cell_type": "code",
   "execution_count": 1,
   "metadata": {},
   "outputs": [
    {
     "name": "stdout",
     "output_type": "stream",
     "text": [
      "Collecting dlib"
     ]
    },
    {
     "name": "stderr",
     "output_type": "stream",
     "text": [
      "  error: subprocess-exited-with-error\n",
      "  \n",
      "  × Building wheel for dlib (pyproject.toml) did not run successfully.\n",
      "  │ exit code: 1\n",
      "  ╰─> [78 lines of output]\n",
      "      running bdist_wheel\n",
      "      running build\n",
      "      running build_ext\n",
      "      <string>:125: DeprecationWarning: distutils Version classes are deprecated. Use packaging.version instead.\n",
      "      Building extension for Python 3.11.6 (tags/v3.11.6:8b6ee5b, Oct  2 2023, 14:57:12) [MSC v.1935 64 bit (AMD64)]\n",
      "      Invoking CMake setup: 'cmake C:\\Users\\mahmo\\AppData\\Local\\Temp\\pip-install-jjuu3w15\\dlib_8a43b6fb822242b3be0fc98165ef14d7\\tools\\python -DCMAKE_LIBRARY_OUTPUT_DIRECTORY=C:\\Users\\mahmo\\AppData\\Local\\Temp\\pip-install-jjuu3w15\\dlib_8a43b6fb822242b3be0fc98165ef14d7\\build\\lib.win-amd64-cpython-311 -DPYTHON_EXECUTABLE=C:\\Users\\mahmo\\AppData\\Local\\Microsoft\\WindowsApps\\PythonSoftwareFoundation.Python.3.11_qbz5n2kfra8p0\\python.exe -DCMAKE_LIBRARY_OUTPUT_DIRECTORY_RELEASE=C:\\Users\\mahmo\\AppData\\Local\\Temp\\pip-install-jjuu3w15\\dlib_8a43b6fb822242b3be0fc98165ef14d7\\build\\lib.win-amd64-cpython-311 -A x64'\n",
      "      -- Building for: NMake Makefiles\n",
      "      CMake Error at CMakeLists.txt:5 (message):\n",
      "      \n",
      "      \n",
      "      \n",
      "        !!!!!!!!!!!!!!!!!!!!!!!!!!!!!!!!!!!!!!!!!!!!!!!!!!!!!!!!!!!!!!!!!!!!!!!!!!!!!!!\n",
      "      \n",
      "      \n",
      "        You must use Visual Studio to build a python extension on windows.  If you\n",
      "        are getting this error it means you have not installed Visual C++.  Note\n",
      "        that there are many flavors of Visual Studio, like Visual Studio for C#\n",
      "        development.  You need to install Visual Studio for C++.\n",
      "      \n",
      "      \n",
      "        !!!!!!!!!!!!!!!!!!!!!!!!!!!!!!!!!!!!!!!!!!!!!!!!!!!!!!!!!!!!!!!!!!!!!!!!!!!!!!!\n",
      "      \n",
      "      \n",
      "      \n",
      "      \n",
      "      -- Configuring incomplete, errors occurred!\n",
      "      Traceback (most recent call last):\n",
      "        File \"C:\\Users\\mahmo\\AppData\\Local\\Packages\\PythonSoftwareFoundation.Python.3.11_qbz5n2kfra8p0\\LocalCache\\local-packages\\Python311\\site-packages\\pip\\_vendor\\pyproject_hooks\\_in_process\\_in_process.py\", line 353, in <module>\n",
      "          main()\n",
      "        File \"C:\\Users\\mahmo\\AppData\\Local\\Packages\\PythonSoftwareFoundation.Python.3.11_qbz5n2kfra8p0\\LocalCache\\local-packages\\Python311\\site-packages\\pip\\_vendor\\pyproject_hooks\\_in_process\\_in_process.py\", line 335, in main\n",
      "          json_out['return_val'] = hook(**hook_input['kwargs'])\n",
      "                                   ^^^^^^^^^^^^^^^^^^^^^^^^^^^^\n",
      "        File \"C:\\Users\\mahmo\\AppData\\Local\\Packages\\PythonSoftwareFoundation.Python.3.11_qbz5n2kfra8p0\\LocalCache\\local-packages\\Python311\\site-packages\\pip\\_vendor\\pyproject_hooks\\_in_process\\_in_process.py\", line 251, in build_wheel\n",
      "          return _build_backend().build_wheel(wheel_directory, config_settings,\n",
      "                 ^^^^^^^^^^^^^^^^^^^^^^^^^^^^^^^^^^^^^^^^^^^^^^^^^^^^^^^^^^^^^^\n",
      "        File \"C:\\Users\\mahmo\\AppData\\Local\\Temp\\pip-build-env-_c15nx2e\\overlay\\Lib\\site-packages\\setuptools\\build_meta.py\", line 404, in build_wheel\n",
      "          return self._build_with_temp_dir(\n",
      "                 ^^^^^^^^^^^^^^^^^^^^^^^^^^\n",
      "        File \"C:\\Users\\mahmo\\AppData\\Local\\Temp\\pip-build-env-_c15nx2e\\overlay\\Lib\\site-packages\\setuptools\\build_meta.py\", line 389, in _build_with_temp_dir\n",
      "          self.run_setup()\n",
      "        File \"C:\\Users\\mahmo\\AppData\\Local\\Temp\\pip-build-env-_c15nx2e\\overlay\\Lib\\site-packages\\setuptools\\build_meta.py\", line 311, in run_setup\n",
      "          exec(code, locals())\n",
      "        File \"<string>\", line 218, in <module>\n",
      "        File \"C:\\Users\\mahmo\\AppData\\Local\\Temp\\pip-build-env-_c15nx2e\\overlay\\Lib\\site-packages\\setuptools\\__init__.py\", line 103, in setup\n",
      "          return distutils.core.setup(**attrs)\n",
      "                 ^^^^^^^^^^^^^^^^^^^^^^^^^^^^^\n",
      "        File \"C:\\Users\\mahmo\\AppData\\Local\\Temp\\pip-build-env-_c15nx2e\\overlay\\Lib\\site-packages\\setuptools\\_distutils\\core.py\", line 185, in setup\n",
      "          return run_commands(dist)\n",
      "                 ^^^^^^^^^^^^^^^^^^\n",
      "        File \"C:\\Users\\mahmo\\AppData\\Local\\Temp\\pip-build-env-_c15nx2e\\overlay\\Lib\\site-packages\\setuptools\\_distutils\\core.py\", line 201, in run_commands\n",
      "          dist.run_commands()\n",
      "        File \"C:\\Users\\mahmo\\AppData\\Local\\Temp\\pip-build-env-_c15nx2e\\overlay\\Lib\\site-packages\\setuptools\\_distutils\\dist.py\", line 969, in run_commands\n",
      "          self.run_command(cmd)\n",
      "        File \"C:\\Users\\mahmo\\AppData\\Local\\Temp\\pip-build-env-_c15nx2e\\overlay\\Lib\\site-packages\\setuptools\\dist.py\", line 963, in run_command\n",
      "          super().run_command(command)\n",
      "        File \"C:\\Users\\mahmo\\AppData\\Local\\Temp\\pip-build-env-_c15nx2e\\overlay\\Lib\\site-packages\\setuptools\\_distutils\\dist.py\", line 988, in run_command\n",
      "          cmd_obj.run()\n",
      "        File \"C:\\Users\\mahmo\\AppData\\Local\\Temp\\pip-build-env-_c15nx2e\\overlay\\Lib\\site-packages\\wheel\\bdist_wheel.py\", line 368, in run\n",
      "          self.run_command(\"build\")\n",
      "        File \"C:\\Users\\mahmo\\AppData\\Local\\Temp\\pip-build-env-_c15nx2e\\overlay\\Lib\\site-packages\\setuptools\\_distutils\\cmd.py\", line 318, in run_command\n",
      "          self.distribution.run_command(command)\n",
      "        File \"C:\\Users\\mahmo\\AppData\\Local\\Temp\\pip-build-env-_c15nx2e\\overlay\\Lib\\site-packages\\setuptools\\dist.py\", line 963, in run_command\n",
      "          super().run_command(command)\n",
      "        File \"C:\\Users\\mahmo\\AppData\\Local\\Temp\\pip-build-env-_c15nx2e\\overlay\\Lib\\site-packages\\setuptools\\_distutils\\dist.py\", line 988, in run_command\n",
      "          cmd_obj.run()\n",
      "        File \"C:\\Users\\mahmo\\AppData\\Local\\Temp\\pip-build-env-_c15nx2e\\overlay\\Lib\\site-packages\\setuptools\\_distutils\\command\\build.py\", line 131, in run\n",
      "          self.run_command(cmd_name)\n",
      "        File \"C:\\Users\\mahmo\\AppData\\Local\\Temp\\pip-build-env-_c15nx2e\\overlay\\Lib\\site-packages\\setuptools\\_distutils\\cmd.py\", line 318, in run_command\n",
      "          self.distribution.run_command(command)\n",
      "        File \"C:\\Users\\mahmo\\AppData\\Local\\Temp\\pip-build-env-_c15nx2e\\overlay\\Lib\\site-packages\\setuptools\\dist.py\", line 963, in run_command\n",
      "          super().run_command(command)\n",
      "        File \"C:\\Users\\mahmo\\AppData\\Local\\Temp\\pip-build-env-_c15nx2e\\overlay\\Lib\\site-packages\\setuptools\\_distutils\\dist.py\", line 988, in run_command\n",
      "          cmd_obj.run()\n",
      "        File \"<string>\", line 130, in run\n",
      "        File \"<string>\", line 167, in build_extension\n",
      "        File \"C:\\Program Files\\WindowsApps\\PythonSoftwareFoundation.Python.3.11_3.11.1776.0_x64__qbz5n2kfra8p0\\Lib\\subprocess.py\", line 413, in check_call\n",
      "          raise CalledProcessError(retcode, cmd)\n",
      "      subprocess.CalledProcessError: Command '['cmake', 'C:\\\\Users\\\\mahmo\\\\AppData\\\\Local\\\\Temp\\\\pip-install-jjuu3w15\\\\dlib_8a43b6fb822242b3be0fc98165ef14d7\\\\tools\\\\python', '-DCMAKE_LIBRARY_OUTPUT_DIRECTORY=C:\\\\Users\\\\mahmo\\\\AppData\\\\Local\\\\Temp\\\\pip-install-jjuu3w15\\\\dlib_8a43b6fb822242b3be0fc98165ef14d7\\\\build\\\\lib.win-amd64-cpython-311', '-DPYTHON_EXECUTABLE=C:\\\\Users\\\\mahmo\\\\AppData\\\\Local\\\\Microsoft\\\\WindowsApps\\\\PythonSoftwareFoundation.Python.3.11_qbz5n2kfra8p0\\\\python.exe', '-DCMAKE_LIBRARY_OUTPUT_DIRECTORY_RELEASE=C:\\\\Users\\\\mahmo\\\\AppData\\\\Local\\\\Temp\\\\pip-install-jjuu3w15\\\\dlib_8a43b6fb822242b3be0fc98165ef14d7\\\\build\\\\lib.win-amd64-cpython-311', '-A', 'x64']' returned non-zero exit status 1.\n",
      "      [end of output]\n",
      "  \n",
      "  note: This error originates from a subprocess, and is likely not a problem with pip.\n",
      "  ERROR: Failed building wheel for dlib\n",
      "ERROR: Could not build wheels for dlib, which is required to install pyproject.toml-based projects\n"
     ]
    },
    {
     "name": "stdout",
     "output_type": "stream",
     "text": [
      "\n",
      "  Downloading dlib-19.24.2.tar.gz (11.8 MB)\n",
      "     ---------------------------------------- 0.0/11.8 MB ? eta -:--:--\n",
      "     ---------------------------------------- 0.0/11.8 MB ? eta -:--:--\n",
      "     --------------------------------------- 0.0/11.8 MB 217.9 kB/s eta 0:00:54\n",
      "     --------------------------------------- 0.0/11.8 MB 245.8 kB/s eta 0:00:48\n",
      "     --------------------------------------- 0.1/11.8 MB 328.2 kB/s eta 0:00:36\n",
      "      -------------------------------------- 0.2/11.8 MB 654.6 kB/s eta 0:00:18\n",
      "     - -------------------------------------- 0.3/11.8 MB 1.2 MB/s eta 0:00:10\n",
      "     - -------------------------------------- 0.5/11.8 MB 1.5 MB/s eta 0:00:08\n",
      "     -- ------------------------------------- 0.7/11.8 MB 2.1 MB/s eta 0:00:06\n",
      "     --- ------------------------------------ 1.0/11.8 MB 2.6 MB/s eta 0:00:05\n",
      "     ---- ----------------------------------- 1.3/11.8 MB 2.9 MB/s eta 0:00:04\n",
      "     ------ --------------------------------- 1.8/11.8 MB 3.8 MB/s eta 0:00:03\n",
      "     -------- ------------------------------- 2.4/11.8 MB 4.5 MB/s eta 0:00:03\n",
      "     --------- ------------------------------ 2.8/11.8 MB 4.8 MB/s eta 0:00:02\n",
      "     ----------- ---------------------------- 3.3/11.8 MB 5.3 MB/s eta 0:00:02\n",
      "     ------------ --------------------------- 3.8/11.8 MB 5.6 MB/s eta 0:00:02\n",
      "     -------------- ------------------------- 4.3/11.8 MB 6.0 MB/s eta 0:00:02\n",
      "     ---------------- ----------------------- 4.8/11.8 MB 6.2 MB/s eta 0:00:02\n",
      "     ----------------- ---------------------- 5.2/11.8 MB 6.5 MB/s eta 0:00:02\n",
      "     ------------------- -------------------- 5.7/11.8 MB 6.6 MB/s eta 0:00:01\n",
      "     --------------------- ------------------ 6.2/11.8 MB 7.0 MB/s eta 0:00:01\n",
      "     ---------------------- ----------------- 6.7/11.8 MB 7.1 MB/s eta 0:00:01\n",
      "     ------------------------ --------------- 7.1/11.8 MB 7.2 MB/s eta 0:00:01\n",
      "     ------------------------- -------------- 7.5/11.8 MB 7.3 MB/s eta 0:00:01\n",
      "     --------------------------- ------------ 8.0/11.8 MB 7.5 MB/s eta 0:00:01\n",
      "     ---------------------------- ----------- 8.4/11.8 MB 7.6 MB/s eta 0:00:01\n",
      "     ------------------------------ --------- 8.9/11.8 MB 7.7 MB/s eta 0:00:01\n",
      "     ------------------------------- -------- 9.3/11.8 MB 7.7 MB/s eta 0:00:01\n",
      "     -------------------------------- ------- 9.6/11.8 MB 7.8 MB/s eta 0:00:01\n",
      "     --------------------------------- ------ 10.0/11.8 MB 7.8 MB/s eta 0:00:01\n",
      "     ----------------------------------- ---- 10.4/11.8 MB 9.5 MB/s eta 0:00:01\n",
      "     ------------------------------------ --- 10.8/11.8 MB 9.9 MB/s eta 0:00:01\n",
      "     ------------------------------------- - 11.4/11.8 MB 10.1 MB/s eta 0:00:01\n",
      "     --------------------------------------  11.7/11.8 MB 10.2 MB/s eta 0:00:01\n",
      "     --------------------------------------  11.8/11.8 MB 10.1 MB/s eta 0:00:01\n",
      "     ---------------------------------------- 11.8/11.8 MB 9.6 MB/s eta 0:00:00\n",
      "  Installing build dependencies: started\n",
      "  Installing build dependencies: finished with status 'done'\n",
      "  Getting requirements to build wheel: started\n",
      "  Getting requirements to build wheel: finished with status 'done'\n",
      "  Preparing metadata (pyproject.toml): started\n",
      "  Preparing metadata (pyproject.toml): finished with status 'done'\n",
      "Building wheels for collected packages: dlib\n",
      "  Building wheel for dlib (pyproject.toml): started\n",
      "  Building wheel for dlib (pyproject.toml): finished with status 'error'\n",
      "Failed to build dlib\n"
     ]
    }
   ],
   "source": [
    "#!pip install dlib"
   ]
  },
  {
   "cell_type": "code",
   "execution_count": 7,
   "metadata": {},
   "outputs": [
    {
     "name": "stderr",
     "output_type": "stream",
     "text": [
      "  % Total    % Received % Xferd  Average Speed   Time    Time     Time  Current\n",
      "                                 Dload  Upload   Total   Spent    Left  Speed\n",
      "\n",
      "  0     0    0     0    0     0      0      0 --:--:-- --:--:-- --:--:--     0\n",
      "  0     0    0     0    0     0      0      0 --:--:-- --:--:-- --:--:--     0\n",
      "  0     0    0     0    0     0      0      0 --:--:-- --:--:-- --:--:--     0\n"
     ]
    }
   ],
   "source": [
    "#!curl -O https://github.com/davisking/dlib-models/raw/master/shape_predictor_68_face_landmarks.dat.bz2"
   ]
  },
  {
   "cell_type": "code",
   "execution_count": 10,
   "metadata": {},
   "outputs": [
    {
     "name": "stderr",
     "output_type": "stream",
     "text": [
      "'7z' is not recognized as an internal or external command,\n",
      "operable program or batch file.\n"
     ]
    }
   ],
   "source": [
    "#!bzip2 -d /content/shape_predictor_68_face_landmarks.dat.bz2"
   ]
  },
  {
   "cell_type": "code",
   "execution_count": 6,
   "metadata": {},
   "outputs": [
    {
     "ename": "ModuleNotFoundError",
     "evalue": "No module named 'dlib'",
     "output_type": "error",
     "traceback": [
      "\u001b[1;31m---------------------------------------------------------------------------\u001b[0m",
      "\u001b[1;31mModuleNotFoundError\u001b[0m                       Traceback (most recent call last)",
      "\u001b[1;32md:\\ezoo\\e-zoo\\Labs\\labs.ipynb Cell 41\u001b[0m line \u001b[0;36m2\n\u001b[0;32m      <a href='vscode-notebook-cell:/d%3A/ezoo/e-zoo/Labs/labs.ipynb#X55sZmlsZQ%3D%3D?line=0'>1</a>\u001b[0m \u001b[39mimport\u001b[39;00m \u001b[39mcv2\u001b[39;00m\n\u001b[1;32m----> <a href='vscode-notebook-cell:/d%3A/ezoo/e-zoo/Labs/labs.ipynb#X55sZmlsZQ%3D%3D?line=1'>2</a>\u001b[0m \u001b[39mimport\u001b[39;00m \u001b[39mdlib\u001b[39;00m\n\u001b[0;32m      <a href='vscode-notebook-cell:/d%3A/ezoo/e-zoo/Labs/labs.ipynb#X55sZmlsZQ%3D%3D?line=2'>3</a>\u001b[0m \u001b[39mfrom\u001b[39;00m \u001b[39mgoogle\u001b[39;00m\u001b[39m.\u001b[39;00m\u001b[39mcolab\u001b[39;00m\u001b[39m.\u001b[39;00m\u001b[39mpatches\u001b[39;00m \u001b[39mimport\u001b[39;00m cv2_imshow\n",
      "\u001b[1;31mModuleNotFoundError\u001b[0m: No module named 'dlib'"
     ]
    }
   ],
   "source": [
    "import cv2\n",
    "import dlib\n",
    "from google.colab.patches import"
   ]
  },
  {
   "cell_type": "code",
   "execution_count": null,
   "metadata": {},
   "outputs": [],
   "source": [
    "img_path = \"/content/OIP (1).jpeg\"\n",
    "img = cv2.imread(img_path)\n",
    "cv2_imshow(img)"
   ]
  },
  {
   "cell_type": "code",
   "execution_count": 14,
   "metadata": {},
   "outputs": [
    {
     "ename": "NameError",
     "evalue": "name 'dlib' is not defined",
     "output_type": "error",
     "traceback": [
      "\u001b[1;31m---------------------------------------------------------------------------\u001b[0m",
      "\u001b[1;31mNameError\u001b[0m                                 Traceback (most recent call last)",
      "\u001b[1;32md:\\ezoo\\e-zoo\\Labs\\labs.ipynb Cell 43\u001b[0m line \u001b[0;36m2\n\u001b[0;32m      <a href='vscode-notebook-cell:/d%3A/ezoo/e-zoo/Labs/labs.ipynb#X60sZmlsZQ%3D%3D?line=0'>1</a>\u001b[0m \u001b[39m# load the face detector and shape predictor\u001b[39;00m\n\u001b[1;32m----> <a href='vscode-notebook-cell:/d%3A/ezoo/e-zoo/Labs/labs.ipynb#X60sZmlsZQ%3D%3D?line=1'>2</a>\u001b[0m detector \u001b[39m=\u001b[39m dlib\u001b[39m.\u001b[39mget_frontal_face_detector()\n\u001b[0;32m      <a href='vscode-notebook-cell:/d%3A/ezoo/e-zoo/Labs/labs.ipynb#X60sZmlsZQ%3D%3D?line=2'>3</a>\u001b[0m predictor \u001b[39m=\u001b[39m dlib\u001b[39m.\u001b[39mshape_predictor(\u001b[39m\"\u001b[39m\u001b[39m./shape_predictor_68_face_landmarks.dat\u001b[39m\u001b[39m\"\u001b[39m)\n",
      "\u001b[1;31mNameError\u001b[0m: name 'dlib' is not defined"
     ]
    }
   ],
   "source": [
    "# load the face detector and shape predictor\n",
    "detector = dlib.get_frontal_face_detector()\n",
    "predictor = dlib.shape_predictor(\"./shape_predictor_68_face_landmarks.dat\")"
   ]
  },
  {
   "cell_type": "code",
   "execution_count": null,
   "metadata": {},
   "outputs": [],
   "source": [
    "image = cv2.imread(img_path)\n",
    "# image = cv2.resize(image, (600, 500))\n",
    "gray = cv2.cvtColor(image, cv2.COLOR_BGR2GRAY)\n",
    "\n",
    "# detect th faces\n",
    "faces = detector(gray)"
   ]
  },
  {
   "cell_type": "code",
   "execution_count": null,
   "metadata": {},
   "outputs": [],
   "source": [
    "faces"
   ]
  },
  {
   "cell_type": "code",
   "execution_count": null,
   "metadata": {},
   "outputs": [],
   "source": [
    "cpy = image.copy()\n",
    "\n",
    "for face in faces:\n",
    "    # extract the coordinates of the bounding box\n",
    "    x1 = face.left()\n",
    "    y1 = face.top()\n",
    "    x2 = face.right()\n",
    "    y2 = face.bottom()\n",
    "    cv2.rectangle(cpy, (x1, y1), (x2, y2), (0, 255, 0), 5)\n",
    "\n",
    "    # apply the shape predictor to the face ROI\n",
    "    shape = predictor(gray, face)\n",
    "    # #draw all points\n",
    "    for n in range(0, 68):\n",
    "        x = shape.part(n).x\n",
    "        y = shape.part(n).y\n",
    "        cv2.circle(cpy, (x, y), 1, (0, 0, 255), 6)\n",
    "    # draw specific point\n",
    "    # x = shape.part(26).x\n",
    "    # y = shape.part(26).y\n",
    "    # cv2.circle(cpy, (x, y), 4, (255, 0, 0), -1)\n",
    "\n",
    "cv2_imshow(cpy)"
   ]
  }
 ],
 "metadata": {
  "kernelspec": {
   "display_name": "Python 3",
   "language": "python",
   "name": "python3"
  },
  "language_info": {
   "codemirror_mode": {
    "name": "ipython",
    "version": 3
   },
   "file_extension": ".py",
   "mimetype": "text/x-python",
   "name": "python",
   "nbconvert_exporter": "python",
   "pygments_lexer": "ipython3",
   "version": "3.11.6"
  }
 },
 "nbformat": 4,
 "nbformat_minor": 2
}
