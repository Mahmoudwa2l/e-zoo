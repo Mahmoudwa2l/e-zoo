{
 "cells": [
  {
   "cell_type": "markdown",
   "metadata": {},
   "source": [
    "# <span style=\"color: limegreen; font-family: 'Maven Pro', sans-serif;\"> LAB 1 MEDIAPIPE <img src=\"./images/google.png\" alt=\"Google Icon\" width=\"35\" height=\"35\"> </span>"
   ]
  },
  {
   "cell_type": "markdown",
   "metadata": {},
   "source": [
    "## Import Packages"
   ]
  },
  {
   "cell_type": "code",
   "execution_count": 1,
   "metadata": {},
   "outputs": [],
   "source": [
    "import mediapipe as mp\n",
    "from mediapipe.tasks import python\n",
    "from mediapipe.tasks.python import vision\n",
    "import cv2"
   ]
  },
  {
   "cell_type": "markdown",
   "metadata": {},
   "source": [
    "## Show image function"
   ]
  },
  {
   "cell_type": "code",
   "execution_count": 2,
   "metadata": {},
   "outputs": [],
   "source": [
    "def showimage(image):\n",
    "    cv2.imshow('Image', image)\n",
    "    cv2.waitKey(0)\n",
    "    cv2.destroyAllWindows()"
   ]
  },
  {
   "cell_type": "markdown",
   "metadata": {},
   "source": [
    "## Show hand image"
   ]
  },
  {
   "cell_type": "code",
   "execution_count": 6,
   "metadata": {},
   "outputs": [],
   "source": [
    "image = cv2.imread(\"./images/hand.jpeg\")\n",
    "showimage(image)"
   ]
  },
  {
   "cell_type": "markdown",
   "metadata": {},
   "source": [
    "## Use MP Model"
   ]
  },
  {
   "cell_type": "code",
   "execution_count": 4,
   "metadata": {},
   "outputs": [],
   "source": [
    "mp_hands=mp.solutions.hands\n",
    "mp_drawings=mp.solutions.drawing_utils\n",
    "mp_styles=mp.solutions.drawing_styles"
   ]
  },
  {
   "cell_type": "markdown",
   "metadata": {},
   "source": [
    "## Convert the BGR image to RGB"
   ]
  },
  {
   "cell_type": "code",
   "execution_count": 5,
   "metadata": {},
   "outputs": [
    {
     "name": "stdout",
     "output_type": "stream",
     "text": [
      "[classification {\n",
      "  index: 1\n",
      "  score: 0.922373056\n",
      "  label: \"Right\"\n",
      "}\n",
      "]\n"
     ]
    },
    {
     "name": "stderr",
     "output_type": "stream",
     "text": [
      "C:\\Users\\mahmo\\AppData\\Local\\Packages\\PythonSoftwareFoundation.Python.3.11_qbz5n2kfra8p0\\LocalCache\\local-packages\\Python311\\site-packages\\google\\protobuf\\symbol_database.py:55: UserWarning: SymbolDatabase.GetPrototype() is deprecated. Please use message_factory.GetMessageClass() instead. SymbolDatabase.GetPrototype() will be removed soon.\n",
      "  warnings.warn('SymbolDatabase.GetPrototype() is deprecated. Please '\n"
     ]
    }
   ],
   "source": [
    "hands = mp_hands.Hands(static_image_mode=True,max_num_hands=2, min_detection_confidence=0.7)\n",
    "rgb_image = cv2.cvtColor(image,cv2.COLOR_BGR2RGB)\n",
    "results = hands.process(rgb_image)\n",
    "print(results.multi_handedness)\n"
   ]
  },
  {
   "cell_type": "markdown",
   "metadata": {},
   "source": [
    "## Draw hands connections"
   ]
  },
  {
   "cell_type": "code",
   "execution_count": 6,
   "metadata": {},
   "outputs": [
    {
     "name": "stdout",
     "output_type": "stream",
     "text": [
      "index 0 :\n",
      "359.3518853187561\n"
     ]
    },
    {
     "data": {
      "text/plain": [
       "True"
      ]
     },
     "execution_count": 6,
     "metadata": {},
     "output_type": "execute_result"
    }
   ],
   "source": [
    "image_height,image_width,_=image.shape\n",
    "annotated_image = image.copy()\n",
    "for hand_landmarks in results.multi_hand_landmarks :\n",
    "    print(\"index 0 :\")\n",
    "    print(hand_landmarks.landmark[mp_hands.HandLandmark.WRIST].x*image_width)\n",
    "    mp_drawings.draw_landmarks(annotated_image,hand_landmarks,mp_hands.HAND_CONNECTIONS,mp_styles.get_default_hand_landmarks_style(),mp_styles.get_default_hand_connections_style())\n",
    "\n",
    "showimage(annotated_image)\n",
    "cv2.imwrite(\"D:\\ezoo\\e-zoo\\Labs\\hand_points.jpg\",annotated_image)"
   ]
  },
  {
   "cell_type": "markdown",
   "metadata": {},
   "source": [
    "# <span style=\"color: gold; font-family: 'Maven Pro', sans-serif;\">LAB 2 Socket  <img src=\"./images/power-plug.png\" width=\"50\" height=\"50\"></span>"
   ]
  },
  {
   "cell_type": "markdown",
   "metadata": {},
   "source": [
    "## Import Packages"
   ]
  },
  {
   "cell_type": "code",
   "execution_count": 1,
   "metadata": {},
   "outputs": [],
   "source": [
    "import mediapipe as mp\n",
    "import cv2\n",
    "import socket"
   ]
  },
  {
   "cell_type": "code",
   "execution_count": 3,
   "metadata": {},
   "outputs": [],
   "source": [
    "path = \"./images/hand.jpeg\"\n",
    "image = cv2.imread(path)\n",
    "showimage(image)\n",
    "mp_hands = mp.solutions.hands"
   ]
  },
  {
   "cell_type": "code",
   "execution_count": 4,
   "metadata": {},
   "outputs": [
    {
     "name": "stdout",
     "output_type": "stream",
     "text": [
      "237.95050978660583,560.2212136983871,329.63554859161377,510.9409761428833,404.8642158508301,437.0169003009796,472.3499536514282,379.47471940517426,530.2494764328003,349.2254799604416,313.70623111724854,311.3727111816406,334.7649335861206,206.3850064277649,345.2601671218872,142.78007724881172,352.6331305503845,88.00105428695679,251.4178991317749,305.55450534820557,257.4742555618286,191.56105715036392,259.93890166282654,118.43822038173676,260.9973192214966,59.222341895103455,193.05844902992249,322.3100584745407,186.44020557403564,214.95026248693466,185.56010127067566,149.11296755075455,186.78009510040283,94.71966576576233,136.88020706176758,358.2753087282181,105.56094646453857,282.14899921417236,86.08546257019043,230.95612120628357,73.14024567604065,181.36094492673874,\n"
     ]
    },
    {
     "name": "stderr",
     "output_type": "stream",
     "text": [
      "C:\\Users\\mahmo\\AppData\\Local\\Packages\\PythonSoftwareFoundation.Python.3.11_qbz5n2kfra8p0\\LocalCache\\local-packages\\Python311\\site-packages\\google\\protobuf\\symbol_database.py:55: UserWarning: SymbolDatabase.GetPrototype() is deprecated. Please use message_factory.GetMessageClass() instead. SymbolDatabase.GetPrototype() will be removed soon.\n",
      "  warnings.warn('SymbolDatabase.GetPrototype() is deprecated. Please '\n"
     ]
    }
   ],
   "source": [
    "data=\"\"\n",
    "with mp_hands.Hands(static_image_mode = True , max_num_hands=2,min_detection_confidence=0.7) as hands :\n",
    "    rgb = cv2.cvtColor(image,cv2.COLOR_BGR2RGB)\n",
    "    flippedImage = cv2.flip(rgb,1)\n",
    "    results = hands.process(flippedImage)\n",
    "    image_height,image_width,_ = image.shape\n",
    "\n",
    "    for hand_landmarks in results.multi_hand_landmarks:\n",
    "        for point in range(21):\n",
    "            data+=str(hand_landmarks.landmark[point].x*image_width)+ \",\"+str(hand_landmarks.landmark[point].y*image_height)+\",\"\n",
    "\n",
    "print(data)"
   ]
  },
  {
   "cell_type": "code",
   "execution_count": 5,
   "metadata": {},
   "outputs": [
    {
     "name": "stdout",
     "output_type": "stream",
     "text": [
      "Waiting for a connection...\n",
      "Device connected: ('127.0.0.1', 51873)\n"
     ]
    }
   ],
   "source": [
    "import socket\n",
    "\n",
    "mySocket = socket.socket(socket.AF_INET, socket.SOCK_STREAM)  # Create a TCP socket\n",
    "mySocket.bind(('localhost', 5000))  # Bind to the address using a tuple\n",
    "mySocket.listen(5)\n",
    "print(\"Waiting for a connection...\")\n",
    "\n",
    "conn, addr = mySocket.accept()\n",
    "print(f\"Device connected: {addr}\")\n",
    "\n",
    "msg = bytes(data, 'utf-8')\n",
    "conn.send(msg)\n",
    "\n",
    "conn.close()  # Close the connection after sending the message\n",
    "mySocket.close()  # Close the listening socket\n"
   ]
  },
  {
   "cell_type": "code",
   "execution_count": 12,
   "metadata": {},
   "outputs": [
    {
     "name": "stdout",
     "output_type": "stream",
     "text": [
      "device connected\n"
     ]
    },
    {
     "data": {
      "text/plain": [
       "772"
      ]
     },
     "execution_count": 12,
     "metadata": {},
     "output_type": "execute_result"
    }
   ],
   "source": [
    "import socket\n",
    "mySocket = socket.socket()\n",
    "mySocket.bind(('localhost',5000))\n",
    "mySocket.listen(5)\n",
    "conn ,addr = mySocket.accept()\n",
    "print(\"device connected\")\n",
    "msg = bytes(data,'utf-8')\n",
    "conn.send(msg)"
   ]
  },
  {
   "cell_type": "markdown",
   "metadata": {},
   "source": [
    "# <span style=\"color: skyblue; font-family: 'Maven Pro', sans-serif;\">LAB 3 MEDIAPIPE & DOLLARPY  <img src=\"./images/dollar-symbol.png\" width=\"45\" height=\"45\"></span>"
   ]
  },
  {
   "cell_type": "markdown",
   "metadata": {},
   "source": [
    "## Import MediaPipe and Dollarpy"
   ]
  },
  {
   "cell_type": "code",
   "execution_count": 32,
   "metadata": {},
   "outputs": [],
   "source": [
    "import mediapipe as mp\n",
    "import cv2\n",
    "#from dollarpy import Recognizer, Template,Point\n",
    "import os\n",
    "import numpy as np\n",
    "\n",
    "mp_drawings = mp.solutions.drawing_utils\n",
    "mp_holistic = mp.solutions.holistic\n"
   ]
  },
  {
   "cell_type": "markdown",
   "metadata": {},
   "source": [
    "## Create a function to extract pose landmarks and convert them to POINT"
   ]
  },
  {
   "cell_type": "markdown",
   "metadata": {},
   "source": [
    "# <span style=\"color:#D678ED ; font-family: 'Maven Pro', sans-serif;\">LAB 4 TUIO   <img src=\"./images/touch.png\" width=\"60\" height=\"60\"></span>"
   ]
  },
  {
   "cell_type": "code",
   "execution_count": null,
   "metadata": {},
   "outputs": [],
   "source": []
  },
  {
   "cell_type": "markdown",
   "metadata": {},
   "source": [
    "#  <span style=\"color:#98FF98; font-family: 'Maven Pro', sans-serif;\">LAB 5 Face Material <img src=\"./images/face-detection.png\" width=\"60\" height=\"60\" style=\"filter: hue-rotate(160deg);\"> </span>\n"
   ]
  },
  {
   "cell_type": "code",
   "execution_count": null,
   "metadata": {},
   "outputs": [],
   "source": []
  },
  {
   "cell_type": "markdown",
   "metadata": {},
   "source": [
    "#  <span style=\"color:#FF0000; font-family: 'Maven Pro', sans-serif;\">LAB 6 YOLOv7 <img src=\"./images/scan.png\" width=\"60\" height=\"60\" style=\"filter: hue-rotate(0deg);\">\n",
    "</span>\n",
    "\n"
   ]
  },
  {
   "cell_type": "code",
   "execution_count": null,
   "metadata": {},
   "outputs": [],
   "source": []
  },
  {
   "cell_type": "markdown",
   "metadata": {},
   "source": [
    "# <span style=\"color:#FFA500; font-family: 'Maven Pro', sans-serif;\">LAB 9 Gaze Tracking & Facial Expression <img src=\"./images/neutral.png\" width=\"60\" height=\"60\" style=\"filter: hue-rotate(30deg);\"> </span>"
   ]
  },
  {
   "cell_type": "code",
   "execution_count": null,
   "metadata": {},
   "outputs": [],
   "source": []
  },
  {
   "cell_type": "markdown",
   "metadata": {},
   "source": [
    "# <span style=\"color:#FF4500; font-family: 'Maven Pro', sans-serif;\">Lab 10 - Heatmap generation <img src=\"./images/heatmap.png\" width=\"60\" height=\"60\" style=\"filter: hue-rotate(30deg);\"> </span>"
   ]
  },
  {
   "cell_type": "code",
   "execution_count": null,
   "metadata": {},
   "outputs": [],
   "source": [
    "#!wget https://github.com/davisking/dlib-models/raw/master/shape_predictor_68_face_landmarks.dat.bz2"
   ]
  },
  {
   "cell_type": "code",
   "execution_count": null,
   "metadata": {},
   "outputs": [],
   "source": [
    "#!bzip2 -d /content/shape_predictor_68_face_landmarks.dat.bz2"
   ]
  },
  {
   "cell_type": "markdown",
   "metadata": {},
   "source": [
    "## Import dlib"
   ]
  },
  {
   "cell_type": "code",
   "execution_count": 3,
   "metadata": {},
   "outputs": [],
   "source": [
    "import cv2\n",
    "import dlib\n",
    "#from google.colab.patches import cv2_imshow"
   ]
  },
  {
   "cell_type": "markdown",
   "metadata": {},
   "source": [
    "## Load image"
   ]
  },
  {
   "cell_type": "code",
   "execution_count": 4,
   "metadata": {},
   "outputs": [],
   "source": [
    "img_path = \"./images/OIP.jpg\"\n",
    "img = cv2.imread(img_path)\n",
    "showimage(img)"
   ]
  },
  {
   "cell_type": "markdown",
   "metadata": {},
   "source": [
    "## load the face detector and shape predictor"
   ]
  },
  {
   "cell_type": "code",
   "execution_count": 5,
   "metadata": {},
   "outputs": [],
   "source": [
    "detector = dlib.get_frontal_face_detector()\n",
    "predictor = dlib.shape_predictor(\"./shape_predictor_68_face_landmarks.dat\")"
   ]
  },
  {
   "cell_type": "code",
   "execution_count": 6,
   "metadata": {},
   "outputs": [],
   "source": [
    "image = cv2.imread(img_path)\n",
    "# image = cv2.resize(image, (600, 500))\n",
    "gray = cv2.cvtColor(image, cv2.COLOR_BGR2GRAY)\n",
    "\n",
    "# detect th faces\n",
    "faces = detector(gray)"
   ]
  },
  {
   "cell_type": "code",
   "execution_count": 7,
   "metadata": {},
   "outputs": [
    {
     "data": {
      "text/plain": [
       "rectangles[[(113, 185) (328, 400)]]"
      ]
     },
     "execution_count": 7,
     "metadata": {},
     "output_type": "execute_result"
    }
   ],
   "source": [
    "faces"
   ]
  },
  {
   "cell_type": "code",
   "execution_count": 9,
   "metadata": {},
   "outputs": [],
   "source": [
    "cpy = image.copy()\n",
    "\n",
    "for face in faces:\n",
    "    # extract the coordinates of the bounding box\n",
    "    x1 = face.left()\n",
    "    y1 = face.top()\n",
    "    x2 = face.right()\n",
    "    y2 = face.bottom()\n",
    "    cv2.rectangle(cpy, (x1, y1), (x2, y2), (0, 255, 0), 5)\n",
    "\n",
    "    # apply the shape predictor to the face ROI\n",
    "    shape = predictor(gray, face)\n",
    "    # #draw all points\n",
    "    for n in range(0, 68):\n",
    "        x = shape.part(n).x\n",
    "        y = shape.part(n).y\n",
    "        cv2.circle(cpy, (x, y), 1, (0, 0, 255), 6)\n",
    "    # draw specific point\n",
    "    # x = shape.part(26).x\n",
    "    # y = shape.part(26).y\n",
    "    # cv2.circle(cpy, (x, y), 4, (255, 0, 0), -1)\n",
    "\n",
    "showimage(cpy)"
   ]
  }
 ],
 "metadata": {
  "kernelspec": {
   "display_name": "Python 3",
   "language": "python",
   "name": "python3"
  },
  "language_info": {
   "codemirror_mode": {
    "name": "ipython",
    "version": 3
   },
   "file_extension": ".py",
   "mimetype": "text/x-python",
   "name": "python",
   "nbconvert_exporter": "python",
   "pygments_lexer": "ipython3",
   "version": "3.11.6"
  }
 },
 "nbformat": 4,
 "nbformat_minor": 2
}
