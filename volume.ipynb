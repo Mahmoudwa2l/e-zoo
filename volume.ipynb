{
 "cells": [
  {
   "cell_type": "code",
   "execution_count": 1,
   "metadata": {},
   "outputs": [
    {
     "name": "stdout",
     "output_type": "stream",
     "text": [
      "C:\\Users\\mahmo\\AppData\\Local\\Packages\\PythonSoftwareFoundation.Python.3.11_qbz5n2kfra8p0\\LocalCache\\local-packages\\Python311\\site-packages\\mediapipe\\__init__.py\n"
     ]
    }
   ],
   "source": [
    "import mediapipe\n",
    "print(mediapipe.__file__)\n"
   ]
  },
  {
   "cell_type": "code",
   "execution_count": 5,
   "metadata": {},
   "outputs": [
    {
     "name": "stdout",
     "output_type": "stream",
     "text": [
      "C:\\Users\\mahmo\\AppData\\Local\\Packages\\PythonSoftwareFoundation.Python.3.11_qbz5n2kfra8p0\\LocalCache\\local-packages\\Python311\\site-packages\\numpy\\__init__.py\n"
     ]
    }
   ],
   "source": [
    "import cv2\n",
    "import mediapipe as mp\n",
    "from math import hypot\n",
    "from ctypes import cast, POINTER\n",
    "from comtypes import CLSCTX_ALL\n",
    "#from pycaw.pycaw import AudioUtilities, IAudioEndpointVolume\n",
    "import numpy as np\n",
    "print(np.__file__)\n"
   ]
  },
  {
   "cell_type": "code",
   "execution_count": null,
   "metadata": {},
   "outputs": [],
   "source": [
    "cap = cv2.VideoCapture(0) #checks for the availability of camera\n",
    "\n",
    "mpHands = mp.solutions.hands #detects fingers\n",
    "hands = mpHands.Hands() #complete the initialization and configuration of the hands and fingers\n",
    "\n",
    "mpDraw = mp.solution.drawil_utils\n"
   ]
  },
  {
   "cell_type": "code",
   "execution_count": 1,
   "metadata": {},
   "outputs": [],
   "source": [
    "import cv2\n",
    "import mediapipe as mp\n",
    "import pyautogui"
   ]
  },
  {
   "cell_type": "code",
   "execution_count": 2,
   "metadata": {},
   "outputs": [
    {
     "name": "stderr",
     "output_type": "stream",
     "text": [
      "C:\\Users\\mahmo\\AppData\\Local\\Packages\\PythonSoftwareFoundation.Python.3.11_qbz5n2kfra8p0\\LocalCache\\local-packages\\Python311\\site-packages\\google\\protobuf\\symbol_database.py:55: UserWarning: SymbolDatabase.GetPrototype() is deprecated. Please use message_factory.GetMessageClass() instead. SymbolDatabase.GetPrototype() will be removed soon.\n",
      "  warnings.warn('SymbolDatabase.GetPrototype() is deprecated. Please '\n"
     ]
    },
    {
     "ename": "AttributeError",
     "evalue": "module 'pyautogui' has no attribute 'press'",
     "output_type": "error",
     "traceback": [
      "\u001b[1;31m---------------------------------------------------------------------------\u001b[0m",
      "\u001b[1;31mAttributeError\u001b[0m                            Traceback (most recent call last)",
      "Cell \u001b[1;32mIn[2], line 32\u001b[0m\n\u001b[0;32m     30\u001b[0m                 pyautogui\u001b[38;5;241m.\u001b[39mpress(\u001b[38;5;124m\"\u001b[39m\u001b[38;5;124mvolumeup\u001b[39m\u001b[38;5;124m\"\u001b[39m)\n\u001b[0;32m     31\u001b[0m             \u001b[38;5;28;01melse\u001b[39;00m:\n\u001b[1;32m---> 32\u001b[0m                 \u001b[43mpyautogui\u001b[49m\u001b[38;5;241;43m.\u001b[39;49m\u001b[43mpress\u001b[49m(\u001b[38;5;124m\"\u001b[39m\u001b[38;5;124mvolumedown\u001b[39m\u001b[38;5;124m\"\u001b[39m)\n\u001b[0;32m     34\u001b[0m cv2\u001b[38;5;241m.\u001b[39mimshow(\u001b[38;5;124m\"\u001b[39m\u001b[38;5;124mHand volume control using python\u001b[39m\u001b[38;5;124m\"\u001b[39m, image)\n\u001b[0;32m     35\u001b[0m key \u001b[38;5;241m=\u001b[39m cv2\u001b[38;5;241m.\u001b[39mwaitKey(\u001b[38;5;241m10\u001b[39m)\n",
      "\u001b[1;31mAttributeError\u001b[0m: module 'pyautogui' has no attribute 'press'"
     ]
    },
    {
     "ename": "",
     "evalue": "",
     "output_type": "error",
     "traceback": [
      "\u001b[1;31mThe Kernel crashed while executing code in the the current cell or a previous cell. Please review the code in the cell(s) to identify a possible cause of the failure. Click <a href='https://aka.ms/vscodeJupyterKernelCrash'>here</a> for more info. View Jupyter <a href='command:jupyter.viewOutput'>log</a> for further details."
     ]
    }
   ],
   "source": [
    "x1 = y1 = x2 = y2 = 0\n",
    "webcam = cv2.VideoCapture(0)\n",
    "my_hands = mp.solutions.hands.Hands()\n",
    "drawing_utils = mp.solutions.drawing_utils\n",
    "\n",
    "while True:\n",
    "    _, image = webcam.read()\n",
    "    frame_height, frame_width, _ = image.shape\n",
    "    rgb_image = cv2.cvtColor(image, cv2.COLOR_BGR2RGB)\n",
    "    output = my_hands.process(rgb_image)\n",
    "    hands = output.multi_hand_landmarks\n",
    "    if hands:\n",
    "        for hand in hands:\n",
    "            drawing_utils.draw_landmarks(image, hand)\n",
    "            landmarks = hand.landmark\n",
    "            for id, landmark in enumerate(landmarks):\n",
    "                x = int(landmark.x * frame_width)\n",
    "                y = int(landmark.y * frame_height)\n",
    "                if id == 8:\n",
    "                    cv2.circle(img=image, center=(x, y), radius=8, color=(0, 255, 255), thickness=3)\n",
    "                    x1 = x\n",
    "                    y1 = y\n",
    "                if id == 4:\n",
    "                    cv2.circle(img=image, center=(x, y), radius=8, color=(0, 0, 255), thickness=3)\n",
    "                    x2 = x\n",
    "                    y2 = y\n",
    "                dist = ((x2 - x1) ** 2 + (y2 - y1) ** 2) ** 0.5 // 4\n",
    "                cv2.line(image, (x1, y1), (x2, y2), (0, 255, 0), 5)\n",
    "                if dist > 50:\n",
    "                    pyautogui.press(\"volumeup\")\n",
    "                else:\n",
    "                    pyautogui.press(\"volumedown\")\n",
    "\n",
    "    cv2.imshow(\"Hand volume control using python\", image)\n",
    "    key = cv2.waitKey(10)\n",
    "    if key == 27:\n",
    "        break\n",
    "\n",
    "webcam.release()\n",
    "cv2.destroyAllWindows()\n"
   ]
  },
  {
   "cell_type": "code",
   "execution_count": 12,
   "metadata": {},
   "outputs": [
    {
     "name": "stdout",
     "output_type": "stream",
     "text": [
      "__doc__\n",
      "__file__\n",
      "__loader__\n",
      "__name__\n",
      "__package__\n",
      "__path__\n",
      "__spec__\n"
     ]
    }
   ],
   "source": [
    "import pyautogui\n",
    "\n",
    "# List all attributes and methods of pyautogui\n",
    "attributes_and_methods = dir(pyautogui)\n",
    "\n",
    "# Print the list\n",
    "for item in attributes_and_methods:\n",
    "    print(item)\n"
   ]
  },
  {
   "cell_type": "code",
   "execution_count": 11,
   "metadata": {},
   "outputs": [
    {
     "name": "stdout",
     "output_type": "stream",
     "text": [
      "pyautogui does not have the 'press' attribute.\n"
     ]
    }
   ],
   "source": [
    "import pyautogui\n",
    "\n",
    "# Check if 'press' is an attribute of pyautogui\n",
    "if hasattr(pyautogui, 'press'):\n",
    "    print(\"pyautogui has the 'press' attribute.\")\n",
    "else:\n",
    "    print(\"pyautogui does not have the 'press' attribute.\")\n"
   ]
  }
 ],
 "metadata": {
  "kernelspec": {
   "display_name": "Python 3",
   "language": "python",
   "name": "python3"
  },
  "language_info": {
   "codemirror_mode": {
    "name": "ipython",
    "version": 3
   },
   "file_extension": ".py",
   "mimetype": "text/x-python",
   "name": "python",
   "nbconvert_exporter": "python",
   "pygments_lexer": "ipython3",
   "version": "3.11.7"
  }
 },
 "nbformat": 4,
 "nbformat_minor": 2
}
